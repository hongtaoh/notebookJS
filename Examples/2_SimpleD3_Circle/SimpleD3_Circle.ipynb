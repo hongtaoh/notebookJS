{
 "cells": [
  {
   "cell_type": "markdown",
   "metadata": {},
   "source": [
    "# Simple D3 Circle\n",
    "\n",
    "This notebook shows how to load D3js from an URL and draw a simple circle in a notebook"
   ]
  },
  {
   "cell_type": "code",
   "execution_count": null,
   "metadata": {},
   "outputs": [],
   "source": [
    "from notebookjs import execute_js"
   ]
  },
  {
   "cell_type": "markdown",
   "metadata": {},
   "source": [
    "### Setting up the JavaScript libraries\n",
    "\n",
    "We are using two JavaScript libraries: D3 and a local \"draw_circle_lib\" library.\n",
    "\n",
    "- D3 is loaded from the web (notebookJS takes care of downloading files from URLs). \n",
    "\n",
    "- draw_circle_lib is loaded from a local file.\n",
    "\n",
    "**Note that we are using D3 V3.**\n",
    "More recent versions of D3 use ES6 and cannot be directly loaded in the notebook script tag. We recommend using a javascript build tool such as babel + webpack to use more modern libraries."
   ]
  },
  {
   "cell_type": "code",
   "execution_count": null,
   "metadata": {},
   "outputs": [],
   "source": [
    "with open(\"./draw_circle_lib.js\", \"r\") as f:\n",
    "    draw_circle_lib = f.read()\n",
    "    \n",
    "d3_lib_url = \"https://d3js.org/d3.v3.min.js\""
   ]
  },
  {
   "cell_type": "markdown",
   "metadata": {},
   "source": [
    "This is the D3 function to draw a circle: "
   ]
  },
  {
   "cell_type": "code",
   "execution_count": null,
   "metadata": {},
   "outputs": [],
   "source": [
    "print(draw_circle_lib)"
   ]
  },
  {
   "cell_type": "markdown",
   "metadata": {},
   "source": [
    "### Running the code"
   ]
  },
  {
   "cell_type": "code",
   "execution_count": null,
   "metadata": {},
   "outputs": [],
   "source": [
    "execute_js([d3_lib_url, draw_circle_lib], \"draw_circle\")"
   ]
  },
  {
   "cell_type": "code",
   "execution_count": null,
   "metadata": {},
   "outputs": [],
   "source": []
  }
 ],
 "metadata": {
  "kernelspec": {
   "display_name": "Python 3",
   "language": "python",
   "name": "python3"
  },
  "language_info": {
   "codemirror_mode": {
    "name": "ipython",
    "version": 3
   },
   "file_extension": ".py",
   "mimetype": "text/x-python",
   "name": "python",
   "nbconvert_exporter": "python",
   "pygments_lexer": "ipython3",
   "version": "3.8.5"
  }
 },
 "nbformat": 4,
 "nbformat_minor": 4
}
