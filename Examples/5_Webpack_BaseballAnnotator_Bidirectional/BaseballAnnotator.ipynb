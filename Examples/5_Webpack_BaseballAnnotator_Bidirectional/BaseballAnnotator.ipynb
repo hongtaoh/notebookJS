{
 "cells": [
  {
   "cell_type": "markdown",
   "metadata": {},
   "source": [
    "# Baseball Visualizer and Annotator - Bidirectional communication"
   ]
  },
  {
   "cell_type": "markdown",
   "metadata": {},
   "source": [
    "This visualization shows an interactive chart that displays baseball game trajectories. The user can control the progress of the play using a slider. Furthermore, the user can select a player or the ball to edit its trajectory (either clicking on the field, or using the button \"Clear trajectory\"). Visualization based on the paper HistoryTracker (Ono et al, 2019)."
   ]
  },
  {
   "cell_type": "markdown",
   "metadata": {},
   "source": [
    "### Loading code bundle (built with Webpack)\n",
    "\n",
    "Source code for the bundle is in BaseballVisualizer/js.\n",
    "\n",
    "To build the library from scratch, run\n",
    "\n",
    "```\n",
    "cd BaseballVisualizer\n",
    "npm install\n",
    "npm run build\n",
    "```"
   ]
  },
  {
   "cell_type": "code",
   "execution_count": null,
   "metadata": {},
   "outputs": [],
   "source": [
    "with open(\"BaseballVisualizer/build/baseballvisualizer.js\", \"r\") as f:\n",
    "    code_bundle = f.read()"
   ]
  },
  {
   "cell_type": "markdown",
   "metadata": {},
   "source": [
    "### Loading the data (baseball play trajectory in CSV)"
   ]
  },
  {
   "cell_type": "code",
   "execution_count": null,
   "metadata": {},
   "outputs": [],
   "source": [
    "import pandas as pd\n",
    "play_csv = pd.read_csv(\"./BaseballVisualizer/play_annotated.csv\")\n",
    "data_dict = {'tracking': play_csv.to_json(orient=\"records\")}"
   ]
  },
  {
   "cell_type": "markdown",
   "metadata": {},
   "source": [
    "### Setting up callback\n",
    "\n",
    "The callback function will set the received_trajectory variable when the user clicks the button \"Submit\""
   ]
  },
  {
   "cell_type": "code",
   "execution_count": null,
   "metadata": {},
   "outputs": [],
   "source": [
    "received_trajectory = None\n",
    "\n",
    "def receive_trajectory(data):\n",
    "    global received_trajectory \n",
    "    received_trajectory = data['trajectory']\n",
    "    return {\"received\": True}\n",
    "    \n",
    "callbacks = {'submit_trajectory': receive_trajectory}"
   ]
  },
  {
   "cell_type": "markdown",
   "metadata": {},
   "source": [
    "In javascript, the callback call is done in BaseballVisualizer/js/TrajectoryAnnotator.js\n",
    "\n",
    "```Javascript\n",
    "function submitTrajectoryToServer(tracking){\n",
    "  const alert_sent = ()=>{alert(\"Trajectory sent to Jupyter Notebook.\")};\n",
    "  let comm = new CommAPI(\"submit_trajectory\", alert_sent)\n",
    "\n",
    "  // Send data\n",
    "  comm.call({'trajectory': tracking})\n",
    "}\n",
    "```"
   ]
  },
  {
   "cell_type": "markdown",
   "metadata": {},
   "source": [
    "### Rendering Visualization"
   ]
  },
  {
   "cell_type": "code",
   "execution_count": null,
   "metadata": {},
   "outputs": [],
   "source": [
    "from notebookjs import execute_js\n",
    "\n",
    "execute_js(library_list=code_bundle, \n",
    "           main_function=\"baseballvisualizer.renderBaseballAnnotator\", \n",
    "           data_dict=data_dict, \n",
    "           callbacks=callbacks)"
   ]
  },
  {
   "cell_type": "code",
   "execution_count": null,
   "metadata": {},
   "outputs": [],
   "source": [
    "received_trajectory"
   ]
  },
  {
   "cell_type": "code",
   "execution_count": null,
   "metadata": {},
   "outputs": [],
   "source": []
  }
 ],
 "metadata": {
  "kernelspec": {
   "display_name": "Python 3",
   "language": "python",
   "name": "python3"
  },
  "language_info": {
   "codemirror_mode": {
    "name": "ipython",
    "version": 3
   },
   "file_extension": ".py",
   "mimetype": "text/x-python",
   "name": "python",
   "nbconvert_exporter": "python",
   "pygments_lexer": "ipython3",
   "version": "3.8.5"
  }
 },
 "nbformat": 4,
 "nbformat_minor": 4
}
