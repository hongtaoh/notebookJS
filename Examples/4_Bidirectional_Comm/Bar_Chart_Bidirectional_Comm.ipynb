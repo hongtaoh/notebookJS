{
 "cells": [
  {
   "cell_type": "markdown",
   "metadata": {},
   "source": [
    "# Bar chart example with bidirectional communication"
   ]
  },
  {
   "cell_type": "code",
   "execution_count": null,
   "metadata": {},
   "outputs": [],
   "source": [
    "from notebookjs import execute_js"
   ]
  },
  {
   "cell_type": "markdown",
   "metadata": {},
   "source": [
    "### Loading libraries"
   ]
  },
  {
   "cell_type": "code",
   "execution_count": null,
   "metadata": {},
   "outputs": [],
   "source": [
    "d3_lib_url = \"https://d3js.org/d3.v3.min.js\"\n",
    "\n",
    "with open(\"bar_chart_lib.js\", \"r\") as f:\n",
    "    bar_chart_lib = f.read()"
   ]
  },
  {
   "cell_type": "markdown",
   "metadata": {},
   "source": [
    "### The bar chart displays the array data in order"
   ]
  },
  {
   "cell_type": "code",
   "execution_count": null,
   "metadata": {},
   "outputs": [],
   "source": [
    "data_dict = {\n",
    "    \"array\": [1,2,3]\n",
    "}\n",
    "execute_js(library_list=[d3_lib_url, bar_chart_lib], main_function=\"bar_chart\", data_dict=data_dict)"
   ]
  },
  {
   "cell_type": "markdown",
   "metadata": {},
   "source": [
    "### Set up data update callback"
   ]
  },
  {
   "cell_type": "code",
   "execution_count": null,
   "metadata": {},
   "outputs": [],
   "source": [
    "import random\n",
    "\n",
    "def random_array(data):\n",
    "    # Makes an array of <data[\"n\"]> random numbers\n",
    "    n = data[\"n\"]\n",
    "    return {'array': [random.random() for x in range(n)]}\n",
    "\n",
    "callbacks = {'random_array': random_array}"
   ]
  },
  {
   "cell_type": "markdown",
   "metadata": {},
   "source": [
    "### Update the bar chart every 2 seconds using callback"
   ]
  },
  {
   "cell_type": "code",
   "execution_count": null,
   "metadata": {},
   "outputs": [],
   "source": [
    "update_func_js = \"\"\"\n",
    "function set_update(div_id, _){  \n",
    "  comm = new CommAPI(\"random_array\", (data) => {\n",
    "    d3.select(div_id).selectAll(\"*\").remove();\n",
    "    bar_chart(div_id, data);\n",
    "  });\n",
    "  comm.call({n: 5})\n",
    "  setInterval(function(){ comm.call({n: 5}) }, 2000);\n",
    "}\n",
    "\"\"\"\n",
    "\n",
    "execute_js(library_list=[d3_lib_url, bar_chart_lib, update_func_js], main_function=\"set_update\", callbacks=callbacks)"
   ]
  },
  {
   "cell_type": "code",
   "execution_count": null,
   "metadata": {},
   "outputs": [],
   "source": []
  }
 ],
 "metadata": {
  "kernelspec": {
   "display_name": "Python 3",
   "language": "python",
   "name": "python3"
  },
  "language_info": {
   "codemirror_mode": {
    "name": "ipython",
    "version": 3
   },
   "file_extension": ".py",
   "mimetype": "text/x-python",
   "name": "python",
   "nbconvert_exporter": "python",
   "pygments_lexer": "ipython3",
   "version": "3.8.5"
  }
 },
 "nbformat": 4,
 "nbformat_minor": 4
}
