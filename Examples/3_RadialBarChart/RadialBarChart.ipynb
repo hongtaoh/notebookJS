{
 "cells": [
  {
   "cell_type": "markdown",
   "metadata": {},
   "source": [
    "# Radial Bar Chart\n",
    "\n",
    "We port the Radial Bar Chart implemented in D3 to a Jupyter Notebook.\n",
    "Code adapted from https://bl.ocks.org/AntonOrlov/6b42d8676943cc933f48a43a7c7e5b6c"
   ]
  },
  {
   "cell_type": "markdown",
   "metadata": {},
   "source": [
    "### Loading the radial bar chart code. \n",
    "\n",
    "We load both js and css scripts"
   ]
  },
  {
   "cell_type": "code",
   "execution_count": null,
   "metadata": {},
   "outputs": [],
   "source": [
    "d3_lib_url = \"https://d3js.org/d3.v3.min.js\"\n",
    "\n",
    "with open(\"radial_bar.css\", \"r\") as f:\n",
    "    radial_bar_css = f.read()\n",
    "    \n",
    "with open (\"radial_bar_lib.js\", \"r\") as f:\n",
    "    radial_bar_lib = f.read()"
   ]
  },
  {
   "cell_type": "markdown",
   "metadata": {},
   "source": [
    "### Loading data"
   ]
  },
  {
   "cell_type": "code",
   "execution_count": null,
   "metadata": {},
   "outputs": [],
   "source": [
    "import pandas as pd\n",
    "energy = pd.read_csv(\"energy.csv\")"
   ]
  },
  {
   "cell_type": "markdown",
   "metadata": {},
   "source": [
    "### Plotting the bar chart \n",
    "\n",
    "Radial Bar Chart of energy consumption over five months"
   ]
  },
  {
   "cell_type": "code",
   "execution_count": null,
   "metadata": {},
   "outputs": [],
   "source": [
    "from notebookjs import execute_js\n",
    "execute_js(library_list=[d3_lib_url, radial_bar_lib], main_function=\"radial_bar\", \n",
    "             data_dict=energy.to_dict(orient=\"records\"), css_list=[radial_bar_css])"
   ]
  },
  {
   "cell_type": "code",
   "execution_count": null,
   "metadata": {},
   "outputs": [],
   "source": []
  }
 ],
 "metadata": {
  "kernelspec": {
   "display_name": "Python 3",
   "language": "python",
   "name": "python3"
  },
  "language_info": {
   "codemirror_mode": {
    "name": "ipython",
    "version": 3
   },
   "file_extension": ".py",
   "mimetype": "text/x-python",
   "name": "python",
   "nbconvert_exporter": "python",
   "pygments_lexer": "ipython3",
   "version": "3.8.5"
  }
 },
 "nbformat": 4,
 "nbformat_minor": 4
}
