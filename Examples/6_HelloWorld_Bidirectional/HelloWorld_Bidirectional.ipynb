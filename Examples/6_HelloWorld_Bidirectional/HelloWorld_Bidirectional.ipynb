{
 "cells": [
  {
   "cell_type": "markdown",
   "metadata": {
    "id": "IaxAGrTGttuV"
   },
   "source": [
    "# notebookJS Colab HelloWorld\n",
    "\n",
    "In this notebook, we show how to use notebookJS to run custom Javascript code. We also show how to send messages between Python and Javascript."
   ]
  },
  {
   "cell_type": "code",
   "execution_count": null,
   "metadata": {
    "id": "vYD-yjPtn_ik"
   },
   "outputs": [],
   "source": [
    "!pip install notebookjs"
   ]
  },
  {
   "cell_type": "markdown",
   "metadata": {
    "id": "BjePMHoyt9TF"
   },
   "source": [
    "## Defining the JavaScript drawing function.\n",
    "\n",
    "The function requests a message to python every 1 second. The callback identifier is called *get_hello*"
   ]
  },
  {
   "cell_type": "code",
   "execution_count": null,
   "metadata": {
    "id": "10am7Nm9oCc9"
   },
   "outputs": [],
   "source": [
    "helloworld_js = \"\"\"\n",
    "function helloworld(div_id, data){\n",
    "    comm = new CommAPI(\"get_hello\", (ret) => {\n",
    "      document.querySelector(div_id).textContent = ret.text;\n",
    "    });\n",
    "    setInterval(() => {comm.call({})}, 1000);\n",
    "    comm.call({});\n",
    "}\n",
    "\"\"\""
   ]
  },
  {
   "cell_type": "markdown",
   "metadata": {
    "id": "zsXaw6XxuJF2"
   },
   "source": [
    "## Defining the Python callback"
   ]
  },
  {
   "cell_type": "code",
   "execution_count": null,
   "metadata": {
    "id": "L0ucikc4oIOW"
   },
   "outputs": [],
   "source": [
    "import random\n",
    "def hello_world_random(data):\n",
    "  hello_world_languages = [\n",
    "      \"Ola Mundo\", # Portuguese\n",
    "      \"Hello World\", # English\n",
    "      \"Hola Mundo\", # Spanish\n",
    "      \"Geiá sou Kósme\", # Greek\n",
    "      \"Kon'nichiwa sekai\", # Japanese\n",
    "      \"Hallo Welt\", # German\n",
    "      \"namaste duniya\" #Hindi\n",
    "  ]\n",
    "  i = random.randint(0, len(hello_world_languages)-1)\n",
    "  return {'text': hello_world_languages[i]}"
   ]
  },
  {
   "cell_type": "markdown",
   "metadata": {
    "id": "g-rkBdq7uXSL"
   },
   "source": [
    "## Running the javascript function with Python callbacks"
   ]
  },
  {
   "cell_type": "code",
   "execution_count": null,
   "metadata": {
    "id": "HaxtaaB-pj0z"
   },
   "outputs": [],
   "source": [
    "from notebookjs import execute_js\n",
    "execute_js(helloworld_js, \"helloworld\", callbacks={\"get_hello\": hello_world_random})"
   ]
  },
  {
   "cell_type": "code",
   "execution_count": null,
   "metadata": {
    "id": "848VKX8jqGbW"
   },
   "outputs": [],
   "source": []
  }
 ],
 "metadata": {
  "colab": {
   "collapsed_sections": [],
   "name": "HelloWorld_notebookJS_Colab.ipynb",
   "provenance": []
  },
  "kernelspec": {
   "display_name": "Python 3",
   "language": "python",
   "name": "python3"
  },
  "language_info": {
   "codemirror_mode": {
    "name": "ipython",
    "version": 3
   },
   "file_extension": ".py",
   "mimetype": "text/x-python",
   "name": "python",
   "nbconvert_exporter": "python",
   "pygments_lexer": "ipython3",
   "version": "3.8.5"
  }
 },
 "nbformat": 4,
 "nbformat_minor": 1
}
